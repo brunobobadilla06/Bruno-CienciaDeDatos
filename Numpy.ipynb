{
  "nbformat": 4,
  "nbformat_minor": 0,
  "metadata": {
    "colab": {
      "provenance": [],
      "authorship_tag": "ABX9TyNGmcT2728CkR0yz6uGNKMN",
      "include_colab_link": true
    },
    "kernelspec": {
      "name": "python3",
      "display_name": "Python 3"
    },
    "language_info": {
      "name": "python"
    }
  },
  "cells": [
    {
      "cell_type": "markdown",
      "metadata": {
        "id": "view-in-github",
        "colab_type": "text"
      },
      "source": [
        "<a href=\"https://colab.research.google.com/github/brunobobadilla06/Bruno-CienciaDeDatos/blob/main/Numpy.ipynb\" target=\"_parent\"><img src=\"https://colab.research.google.com/assets/colab-badge.svg\" alt=\"Open In Colab\"/></a>"
      ]
    },
    {
      "cell_type": "code",
      "execution_count": null,
      "metadata": {
        "colab": {
          "base_uri": "https://localhost:8080/"
        },
        "id": "RMhMp_zQK_Xb",
        "outputId": "24d1d715-79c3-451d-bb9a-aab7be3e3414"
      },
      "outputs": [
        {
          "output_type": "stream",
          "name": "stdout",
          "text": [
            "[ 1  2  3  4  5  6  7  8  9 10]\n",
            "[ 2  4  6  8 10 12 14 16 18 20]\n"
          ]
        }
      ],
      "source": [
        "# Array en Numpy\n",
        "import numpy as np\n",
        "array = np.array([1,2,3,4,5,6,7,8,9,10])\n",
        "print(array)\n",
        "\n",
        "resultado = array * 2\n",
        "print(resultado)"
      ]
    },
    {
      "cell_type": "code",
      "source": [
        "import numpy as np\n",
        "array1 = np.array([1,2,3,4,5,6,7,8,9,10])\n",
        "array2 = np.array([10,9,8,7,6,5,4,3,2,1])\n",
        "resultado = array1 + array2\n",
        "\n",
        "print(resultado)\n",
        "\n",
        "matriz = np.array([[1,2,3],[4,5,6],[7,8,9]])\n",
        "print(matriz)"
      ],
      "metadata": {
        "colab": {
          "base_uri": "https://localhost:8080/"
        },
        "id": "WZ17AKieLU5p",
        "outputId": "15de1227-b80f-47bb-ebd1-a9e9685bf527"
      },
      "execution_count": null,
      "outputs": [
        {
          "output_type": "stream",
          "name": "stdout",
          "text": [
            "[11 11 11 11 11 11 11 11 11 11]\n",
            "[[1 2 3]\n",
            " [4 5 6]\n",
            " [7 8 9]]\n"
          ]
        }
      ]
    },
    {
      "cell_type": "code",
      "source": [
        "# Array predefinidos\n",
        "import numpy as np\n",
        "array = np.zeros((3, 3))\n",
        "print(array)\n",
        "\n",
        "array2 = np.ones((3, 3))\n",
        "print(array2)\n",
        "\n",
        "array3 = np.eye(3)\n",
        "print(array3)\n",
        "\n",
        "\n"
      ],
      "metadata": {
        "colab": {
          "base_uri": "https://localhost:8080/"
        },
        "id": "Dtrp_iNYL-Xo",
        "outputId": "7ef25614-dba2-4785-a70a-5580538ea668"
      },
      "execution_count": null,
      "outputs": [
        {
          "output_type": "stream",
          "name": "stdout",
          "text": [
            "[[0. 0. 0.]\n",
            " [0. 0. 0.]\n",
            " [0. 0. 0.]]\n",
            "[[1. 1. 1.]\n",
            " [1. 1. 1.]\n",
            " [1. 1. 1.]]\n",
            "[[1. 0. 0.]\n",
            " [0. 1. 0.]\n",
            " [0. 0. 1.]]\n"
          ]
        }
      ]
    },
    {
      "cell_type": "code",
      "source": [
        "  # Introduccion a Broadcasting\n",
        "  # Mecanismo que permite a Numpy realizar operaciones aritmeticas en arrays\n",
        "  # sin crear copias fisicas de los datos\n",
        "import numpy as np\n",
        "array1 = np.array([[1,2,3],[4,5,6],[7,8,9]])\n",
        "array2 = np.array([1,2,3])\n",
        "resultado = array1 + array2\n",
        "print(resultado)\n",
        "print(\"-*-*-*-*-*-*-*--*-*-*-***-*-*-*-*-*-*-*-\")\n",
        "\n",
        "matriz = np.array([[1,2,3],[4,5,6],[7,8,9]])\n",
        "vector = np.array([1,2,3])\n",
        "resultado = matriz + vector\n",
        "print(resultado)\n",
        "print(\"-*-*-*-*-*-*-*--*-*-*-***-*-*-*-*-*-*-*-\")\n",
        "\n"
      ],
      "metadata": {
        "colab": {
          "base_uri": "https://localhost:8080/"
        },
        "id": "OqgWTaNmxFzk",
        "outputId": "50ebf320-a269-4d31-880d-30990e8a6d12"
      },
      "execution_count": 5,
      "outputs": [
        {
          "output_type": "stream",
          "name": "stdout",
          "text": [
            "[[ 2  4  6]\n",
            " [ 5  7  9]\n",
            " [ 8 10 12]]\n",
            "-*-*-*-*-*-*-*--*-*-*-***-*-*-*-*-*-*-*-\n",
            "[[ 2  4  6]\n",
            " [ 5  7  9]\n",
            " [ 8 10 12]]\n"
          ]
        }
      ]
    },
    {
      "cell_type": "markdown",
      "source": [
        "Funciones estadisticas: Vision general\n",
        "Herramientas esenciales para analisis descriptivo\n",
        "1. np.sum()\n",
        "arr.sum()/np.sum(arr): Calcula la suma de todos los elementos del array(cuando necesitas totales o agregaciones)\n",
        "2. np.mean()\n",
        "arr.mean()/np.mean(arr): Calcula el promedio(media aritmetica) de los elementos\n",
        "3. np.median\n",
        "np.median(arr): Encuentra el valor central (50% de los datos)\n",
        "4. np.std()\n",
        "arr.std()/ np.std(arr): Calcula la desviacion estandar, que mide la dispercion de los datos\n",
        "5. np.var()\n",
        "arr.var()/np.var(arr): Calcula la varianza(std al cuadrado)\n",
        "6. np.min()/max()\n",
        "arr.min() / arr.max(): Encuentra los valores minimos y maximos en array\n"
      ],
      "metadata": {
        "id": "OJkd9HWZ2R9K"
      }
    },
    {
      "cell_type": "code",
      "source": [
        "# Simulacion de temperaturas diasras (30 dias)\n",
        "import numpy as np\n",
        "np.random.seed(42) # Para reproducibilidad\n",
        "\n",
        "# Generar datos de temperatiras\n",
        "temperaturas = np.random.normal(22, 5, 30).round(1)\n",
        "\n",
        "# Estadisticas descriptivas basicas\n",
        "media = np.mean(temperaturas)\n",
        "mediana = np.median(temperaturas)\n",
        "desviacion_estandar = np.std(temperaturas)\n",
        "minimo = np.min(temperaturas)\n",
        "maximo = np.max(temperaturas)\n",
        "rango = maximo - minimo\n",
        "\n",
        "# Imprimir resultados\n",
        "print(\"Temperaturas:\")\n",
        "print(temperaturas)\n",
        "\n",
        "# Percentiles claves\n",
        "p25 = np.percentile(temperaturas, 25)\n",
        "p50 = np.percentile(temperaturas, 50)\n",
        "p75 = np.percentile(temperaturas, 75)\n",
        "iqr = p75 - p25\n",
        "\n",
        "# Imprimir percentiles\n",
        "print(\"\\nEstadisticas descriptivas:\")\n",
        "print(f\"Media: {media}\")\n",
        "print(f\"Mediana: {mediana}\")\n",
        "print(f\"Desviacion estandar: {desviacion_estandar}\")\n",
        "print(f\"Rango: {rango}\")"
      ],
      "metadata": {
        "colab": {
          "base_uri": "https://localhost:8080/"
        },
        "id": "Y8kZON1UC2UO",
        "outputId": "2a9c69f3-5464-406b-f3ac-2c3d08df2c94"
      },
      "execution_count": 6,
      "outputs": [
        {
          "output_type": "stream",
          "name": "stdout",
          "text": [
            "Temperaturas:\n",
            "[24.5 21.3 25.2 29.6 20.8 20.8 29.9 25.8 19.7 24.7 19.7 19.7 23.2 12.4\n",
            " 13.4 19.2 16.9 23.6 17.5 14.9 29.3 20.9 22.3 14.9 19.3 22.6 16.2 23.9\n",
            " 19.  20.5]\n",
            "\n",
            "Estadisticas descriptivas:\n",
            "Media: 21.056666666666665\n",
            "Mediana: 20.8\n",
            "Desviacion estandar: 4.422343521507823\n",
            "Rango: 17.5\n"
          ]
        }
      ]
    },
    {
      "cell_type": "markdown",
      "source": [
        "Estadistica sobre eje y dimensiones\n",
        "AXIS = Permite aplicar funciones estadisticas a lo largo de diferentes dimensiones de un array, cambiando radicalmente los resultados obtenidos\n",
        "\n"
      ],
      "metadata": {
        "id": "3ocmpiQFGfF9"
      }
    },
    {
      "cell_type": "code",
      "source": [
        "import numpy as np\n",
        "array = np.array([[1,2,3],[4,5,6],[7,8,9]])\n",
        "\n",
        "#Aplicar funcion estadistica por columnas(axis=0)\n",
        "col_means = np.mean(array, axis=0)\n",
        "print(\"Promedios por columnas:\")\n",
        "print(col_means)\n",
        "\n",
        "#Aplicar funcion estadistica por filas(axis=1)\n",
        "row_means = np.mean(array, axis=1)\n",
        "print(\"Promedios por filas:\")\n",
        "print(row_means)\n",
        "\n",
        "# Aplicar sin escificar axis\n",
        "overall_mean = np.mean(array)\n",
        "print(\"Promedio general:\")\n",
        "print(overall_mean)"
      ],
      "metadata": {
        "colab": {
          "base_uri": "https://localhost:8080/"
        },
        "id": "osD7snPaHD3i",
        "outputId": "bf94ba31-ab71-464f-e182-c3c3baaa4f16"
      },
      "execution_count": 7,
      "outputs": [
        {
          "output_type": "stream",
          "name": "stdout",
          "text": [
            "Promedios por columnas:\n",
            "[4. 5. 6.]\n",
            "Promedios por filas:\n",
            "[2. 5. 8.]\n",
            "Promedio general:\n",
            "5.0\n"
          ]
        }
      ]
    }
  ]
}