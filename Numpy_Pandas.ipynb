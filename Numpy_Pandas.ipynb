{
  "nbformat": 4,
  "nbformat_minor": 0,
  "metadata": {
    "colab": {
      "provenance": [],
      "authorship_tag": "ABX9TyPhnN94TBsV88QnX2qBUea1",
      "include_colab_link": true
    },
    "kernelspec": {
      "name": "python3",
      "display_name": "Python 3"
    },
    "language_info": {
      "name": "python"
    }
  },
  "cells": [
    {
      "cell_type": "markdown",
      "metadata": {
        "id": "view-in-github",
        "colab_type": "text"
      },
      "source": [
        "<a href=\"https://colab.research.google.com/github/brunobobadilla06/Bruno-CienciaDeDatos/blob/main/Numpy_Pandas.ipynb\" target=\"_parent\"><img src=\"https://colab.research.google.com/assets/colab-badge.svg\" alt=\"Open In Colab\"/></a>"
      ]
    },
    {
      "cell_type": "markdown",
      "source": [
        "Introduccion en Panda:"
      ],
      "metadata": {
        "id": "q6C3sqdIkdPH"
      }
    },
    {
      "cell_type": "code",
      "source": [
        "import pandas as pd # Importamos pandas y le ponemos un alias\n",
        "\n",
        "# Creamos un DataFrame simple\n",
        "datos = {\n",
        "    'Nombre': ['Juan', 'María', 'Pedro', 'Ana', 'Luis'],\n",
        "    'Edad': [25, 30, 35, 40, 45],\n",
        "}\n",
        "df = pd.DataFrame(datos)\n",
        "\n",
        "# Mostramos el DataFrame\n",
        "print(df)\n",
        "#"
      ],
      "metadata": {
        "colab": {
          "base_uri": "https://localhost:8080/"
        },
        "id": "_oTqhY95kkWe",
        "outputId": "224cda94-eb3f-45c4-c9e7-86d40478acbb"
      },
      "execution_count": null,
      "outputs": [
        {
          "output_type": "stream",
          "name": "stdout",
          "text": [
            "  Nombre  Edad\n",
            "0   Juan    25\n",
            "1  María    30\n",
            "2  Pedro    35\n",
            "3    Ana    40\n",
            "4   Luis    45\n"
          ]
        }
      ]
    },
    {
      "cell_type": "code",
      "source": [
        "# Series\n",
        "import pandas as pd\n",
        "\n",
        "# Creamos una serie simple\n",
        "serie = pd.Series([10, 20, 30, 40, 50])\n",
        "\n",
        "\n",
        "# Mostramos la serie\n",
        "print(serie)"
      ],
      "metadata": {
        "colab": {
          "base_uri": "https://localhost:8080/"
        },
        "id": "n6QTG8NMnjLa",
        "outputId": "8a44c231-f114-4f9c-b744-de21d6424a6e"
      },
      "execution_count": null,
      "outputs": [
        {
          "output_type": "stream",
          "name": "stdout",
          "text": [
            "0    10\n",
            "1    20\n",
            "2    30\n",
            "3    40\n",
            "4    50\n",
            "dtype: int64\n"
          ]
        }
      ]
    },
    {
      "cell_type": "code",
      "source": [
        "# DataFrame\n",
        "import pandas as pd\n",
        "\n",
        "# Creamos la dataframe\n",
        "datos = {\n",
        "    'Nombre': ['Juan', 'María', 'Pedro', 'Ana', 'Luis'],\n",
        "    'Edad': [25, 30, 35, 40, 45],\n",
        "}\n",
        "df = pd.DataFrame(datos)"
      ],
      "metadata": {
        "id": "BfFdI6EXbTCJ"
      },
      "execution_count": null,
      "outputs": []
    },
    {
      "cell_type": "code",
      "source": [
        "# Leyendo archivos\n",
        "import pandas as pd\n",
        "\n",
        "# Leyendo un archivo CSV\n",
        "df = pd.read_csv('datos.csv')\n",
        "\n",
        "# Leyendo un archivo Excel\n",
        "df = pd.read_excel('datos.xlsx')\n",
        "\n",
        "# Leyendo un archivo json\n",
        "df = pd.read_json('datos.json')\n",
        "\n",
        "# Leyendo un archivo Sql\n",
        "df = pd.read_sql('datos.sql')\n",
        "\n",
        "# Leyendo un archivo Html\n",
        "df = pd.read_html('datos.html')\n"
      ],
      "metadata": {
        "id": "TfXx52IXcQYD"
      },
      "execution_count": null,
      "outputs": []
    },
    {
      "cell_type": "markdown",
      "source": [
        "Tip: Si usamos df.info() para ver tipos de datos y df.describe() para estadisticas basicas."
      ],
      "metadata": {
        "id": "Sj330fskjHLV"
      }
    },
    {
      "cell_type": "code",
      "source": [
        "print(\"Indice de la serie \", serie.index)\n",
        "print(\"Valores de la serie \", serie.values)"
      ],
      "metadata": {
        "colab": {
          "base_uri": "https://localhost:8080/"
        },
        "id": "D5HhUFx_jZoc",
        "outputId": "21099a08-0e8b-4230-964c-e6fa1c9f840c"
      },
      "execution_count": null,
      "outputs": [
        {
          "output_type": "stream",
          "name": "stdout",
          "text": [
            "Indice de la serie  RangeIndex(start=0, stop=5, step=1)\n",
            "Valores de la serie  [10 20 30 40 50]\n"
          ]
        }
      ]
    },
    {
      "cell_type": "code",
      "source": [
        "import pandas as pd\n",
        "# Creando una serie desde un diccionario\n",
        "# Las claves del diccionario se covierten en el indice\n",
        "s_dict = pd.Series({'Juan':25, 'Maria':30, 'Pedro':35, 'Ana':40, 'Luis':45})\n",
        "print(s_dict)\n",
        "print(\"Edad de Ana: \", s_dict['Ana'])"
      ],
      "metadata": {
        "colab": {
          "base_uri": "https://localhost:8080/"
        },
        "id": "WGlPwS8mFrot",
        "outputId": "529d6862-fdb6-436f-8844-1b7ff4ff445f"
      },
      "execution_count": null,
      "outputs": [
        {
          "output_type": "stream",
          "name": "stdout",
          "text": [
            "Juan     25\n",
            "Maria    30\n",
            "Pedro    35\n",
            "Ana      40\n",
            "Luis     45\n",
            "dtype: int64\n",
            "Edad de Ana:  40\n"
          ]
        }
      ]
    },
    {
      "cell_type": "code",
      "source": [
        "# Creando un data frame desde un diccionario de listas\n",
        "# cada clave del diccionario sera una columna, las listas los valos de esas columna\n",
        "# TODAS LAS LISTAS DEBEN TENER LA MISMA LONGITUD\n",
        "data = {\n",
        "    'Nombre': ['Juan', 'María', 'Pedro', 'Ana', 'Luis'],\n",
        "    'Edad': [25, 30, 35, 40, 45],\n",
        "    'Ciudad': ['Madrid', 'Barcelona', 'Valencia', 'Sevilla', 'Zaragoza]\n",
        "}\n",
        "df = pd.DataFrame(data)\n",
        "print(df)"
      ],
      "metadata": {
        "colab": {
          "base_uri": "https://localhost:8080/",
          "height": 106
        },
        "id": "hq6lNlZS3U_5",
        "outputId": "11e7483a-aaa0-4d5c-e2d7-bc87b81d4cad"
      },
      "execution_count": 1,
      "outputs": [
        {
          "output_type": "error",
          "ename": "SyntaxError",
          "evalue": "unterminated string literal (detected at line 7) (ipython-input-1921864838.py, line 7)",
          "traceback": [
            "\u001b[0;36m  File \u001b[0;32m\"/tmp/ipython-input-1921864838.py\"\u001b[0;36m, line \u001b[0;32m7\u001b[0m\n\u001b[0;31m    'Ciudad': ['Madrid', 'Barcelona', 'Valencia', 'Sevilla', 'Zaragoza]\u001b[0m\n\u001b[0m                                                             ^\u001b[0m\n\u001b[0;31mSyntaxError\u001b[0m\u001b[0;31m:\u001b[0m unterminated string literal (detected at line 7)\n"
          ]
        }
      ]
    }
  ]
}