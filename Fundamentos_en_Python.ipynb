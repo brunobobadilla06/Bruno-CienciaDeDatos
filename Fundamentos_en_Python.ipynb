{
  "nbformat": 4,
  "nbformat_minor": 0,
  "metadata": {
    "colab": {
      "provenance": [],
      "authorship_tag": "ABX9TyNUlGYTUegMWFd4RGEe71Ol",
      "include_colab_link": true
    },
    "kernelspec": {
      "name": "python3",
      "display_name": "Python 3"
    },
    "language_info": {
      "name": "python"
    }
  },
  "cells": [
    {
      "cell_type": "markdown",
      "metadata": {
        "id": "view-in-github",
        "colab_type": "text"
      },
      "source": [
        "<a href=\"https://colab.research.google.com/github/brunobobadilla06/Bruno-CienciaDeDatos/blob/main/Fundamentos_en_Python.ipynb\" target=\"_parent\"><img src=\"https://colab.research.google.com/assets/colab-badge.svg\" alt=\"Open In Colab\"/></a>"
      ]
    },
    {
      "cell_type": "code",
      "metadata": {
        "colab": {
          "base_uri": "https://localhost:8080/"
        },
        "id": "db1cb5b7",
        "outputId": "59554c9b-b642-4d69-d035-5dc2a53f35d0"
      },
      "source": [
        "# Tipos de datos en Python\n",
        "\n",
        "# 1. Números enteros (int)\n",
        "entero = 10\n",
        "print(f\"Entero: {entero}, Tipo: {type(entero)}\")\n",
        "\n",
        "# 2. Números de punto flotante (float)\n",
        "flotante = 10.5\n",
        "print(f\"Flotante: {flotante}, Tipo: {type(flotante)}\")\n",
        "\n",
        "# 3. Números complejos (complex)\n",
        "complejo = 2 + 3j\n",
        "print(f\"Complejo: {complejo}, Tipo: {type(complejo)}\")\n",
        "\n",
        "# 4. Cadenas de texto (str)\n",
        "cadena = \"Hola, mundo!\"\n",
        "print(f\"Cadena: {cadena}, Tipo: {type(cadena)}\")\n",
        "\n",
        "# 5. Booleanos (bool)\n",
        "booleano_verdadero = True\n",
        "booleano_falso = False\n",
        "print(f\"Booleano (Verdadero): {booleano_verdadero}, Tipo: {type(booleano_verdadero)}\")\n",
        "print(f\"Booleano (Falso): {booleano_falso}, Tipo: {type(booleano_falso)}\")\n",
        "\n",
        "# 6. Listas (list) - Colección ordenada y mutable\n",
        "lista = [1, 2, 3, \"cuatro\", 5.0]\n",
        "print(f\"Lista: {lista}, Tipo: {type(lista)}\")\n",
        "\n",
        "# 7. Tuplas (tuple) - Colección ordenada e inmutable\n",
        "tupla = (10, 20, 30)\n",
        "print(f\"Tupla: {tupla}, Tipo: {type(tupla)}\")\n",
        "\n",
        "# 8. Diccionarios (dict) - Colección desordenada de pares clave-valor\n",
        "diccionario = {\"clave1\": \"valor1\", \"clave2\": 123}\n",
        "print(f\"Diccionario: {diccionario}, Tipo: {type(diccionario)}\")\n",
        "\n",
        "# 9. Conjuntos (set) - Colección desordenada de elementos únicos\n",
        "conjunto = {1, 2, 3, 3, 4}\n",
        "print(f\"Conjunto: {conjunto}, Tipo: {type(conjunto)}\")\n",
        "\n",
        "# 10. NoneType (None) - Representa la ausencia de valor\n",
        "nada = None\n",
        "print(f\"Nada: {nada}, Tipo: {type(nada)}\")"
      ],
      "execution_count": 1,
      "outputs": [
        {
          "output_type": "stream",
          "name": "stdout",
          "text": [
            "Entero: 10, Tipo: <class 'int'>\n",
            "Flotante: 10.5, Tipo: <class 'float'>\n",
            "Complejo: (2+3j), Tipo: <class 'complex'>\n",
            "Cadena: Hola, mundo!, Tipo: <class 'str'>\n",
            "Booleano (Verdadero): True, Tipo: <class 'bool'>\n",
            "Booleano (Falso): False, Tipo: <class 'bool'>\n",
            "Lista: [1, 2, 3, 'cuatro', 5.0], Tipo: <class 'list'>\n",
            "Tupla: (10, 20, 30), Tipo: <class 'tuple'>\n",
            "Diccionario: {'clave1': 'valor1', 'clave2': 123}, Tipo: <class 'dict'>\n",
            "Conjunto: {1, 2, 3, 4}, Tipo: <class 'set'>\n",
            "Nada: None, Tipo: <class 'NoneType'>\n"
          ]
        }
      ]
    },
    {
      "cell_type": "markdown",
      "metadata": {
        "id": "12436f7b"
      },
      "source": [
        "### Trabajando con Tuplas (tuple)\n",
        "\n",
        "Las tuplas son colecciones ordenadas e inmutables. Una vez creadas, no se pueden modificar. Son útiles para almacenar colecciones de elementos relacionados que no deben cambiar."
      ]
    },
    {
      "cell_type": "code",
      "metadata": {
        "colab": {
          "base_uri": "https://localhost:8080/"
        },
        "id": "2e19cb03",
        "outputId": "577b4427-bbf9-442b-ea12-1689fe0ccae6"
      },
      "source": [
        "# Creando una tupla\n",
        "mi_tupla = (10, 20, 30, \"a\", \"b\")\n",
        "print(f\"Mi tupla: {mi_tupla}\")\n",
        "\n",
        "# Acceder a elementos de una tupla\n",
        "print(f\"Primer elemento: {mi_tupla[0]}\")\n",
        "print(f\"Último elemento: {mi_tupla[-1]}\")\n",
        "\n",
        "# Iterar sobre una tupla\n",
        "print(\"Elementos de la tupla:\")\n",
        "for elemento in mi_tupla:\n",
        "    print(elemento)\n",
        "\n",
        "# Longitud de una tupla\n",
        "print(f\"Longitud de la tupla: {len(mi_tupla)}\")\n",
        "\n",
        "# Las tuplas son inmutables, las siguientes líneas darían un error\n",
        "# mi_tupla[0] = 5 # TypeError: 'tuple' object does not support item assignment\n",
        "# mi_tupla.append(40) # AttributeError: 'tuple' object has no attribute 'append'\n",
        "\n",
        "# Se pueden concatenar tuplas para crear una nueva tupla\n",
        "otra_tupla = (40, 50)\n",
        "nueva_tupla = mi_tupla + otra_tupla\n",
        "print(f\"Nueva tupla (concatenada): {nueva_tupla}\")\n",
        "\n",
        "# Repetir elementos en una tupla\n",
        "tupla_repetida = mi_tupla * 2\n",
        "print(f\"Tupla repetida: {tupla_repetida}\")\n",
        "\n",
        "# Verificar si un elemento está en la tupla\n",
        "print(f\"¿Está 20 en la tupla? {20 in mi_tupla}\")\n",
        "print(f\"¿Está 100 en la tupla? {100 in mi_tupla}\")"
      ],
      "execution_count": 2,
      "outputs": [
        {
          "output_type": "stream",
          "name": "stdout",
          "text": [
            "Mi tupla: (10, 20, 30, 'a', 'b')\n",
            "Primer elemento: 10\n",
            "Último elemento: b\n",
            "Elementos de la tupla:\n",
            "10\n",
            "20\n",
            "30\n",
            "a\n",
            "b\n",
            "Longitud de la tupla: 5\n",
            "Nueva tupla (concatenada): (10, 20, 30, 'a', 'b', 40, 50)\n",
            "Tupla repetida: (10, 20, 30, 'a', 'b', 10, 20, 30, 'a', 'b')\n",
            "¿Está 20 en la tupla? True\n",
            "¿Está 100 en la tupla? False\n"
          ]
        }
      ]
    },
    {
      "cell_type": "markdown",
      "metadata": {
        "id": "b0413e5c"
      },
      "source": [
        "### Trabajando con Listas (list)\n",
        "\n",
        "Las listas son colecciones ordenadas y mutables. Son muy flexibles y se utilizan comúnmente para almacenar colecciones de elementos que pueden cambiar."
      ]
    },
    {
      "cell_type": "code",
      "metadata": {
        "colab": {
          "base_uri": "https://localhost:8080/"
        },
        "id": "f1b2c8ab",
        "outputId": "4f4b482c-c77e-4cea-8f92-27e16a8bc0ca"
      },
      "source": [
        "# Creando una lista\n",
        "mi_lista = [1, 2, 3, \"cuatro\", 5.0]\n",
        "print(f\"Mi lista: {mi_lista}\")\n",
        "\n",
        "# Acceder a elementos de una lista\n",
        "print(f\"Primer elemento: {mi_lista[0]}\")\n",
        "print(f\"Último elemento: {mi_lista[-1]}\")\n",
        "\n",
        "# Modificar elementos de una lista\n",
        "mi_lista[0] = 100\n",
        "print(f\"Lista modificada: {mi_lista}\")\n",
        "\n",
        "# Agregar elementos a una lista\n",
        "mi_lista.append(\"seis\") # Agrega al final\n",
        "print(f\"Lista después de append: {mi_lista}\")\n",
        "\n",
        "mi_lista.insert(1, \"nuevo\") # Inserta en una posición específica\n",
        "print(f\"Lista después de insert: {mi_lista}\")\n",
        "\n",
        "# Eliminar elementos de una lista\n",
        "mi_lista.remove(\"cuatro\") # Elimina por valor\n",
        "print(f\"Lista después de remove: {mi_lista}\")\n",
        "\n",
        "elemento_eliminado = mi_lista.pop() # Elimina y devuelve el último elemento\n",
        "print(f\"Elemento eliminado con pop(): {elemento_eliminado}\")\n",
        "print(f\"Lista después de pop(): {mi_lista}\")\n",
        "\n",
        "del mi_lista[0] # Elimina por índice\n",
        "print(f\"Lista después de del: {mi_lista}\")\n",
        "\n",
        "# Longitud de una lista\n",
        "print(f\"Longitud de la lista: {len(mi_lista)}\")\n",
        "\n",
        "# Iterar sobre una lista\n",
        "print(\"Elementos de la lista:\")\n",
        "for elemento in mi_lista:\n",
        "    print(elemento)\n",
        "\n",
        "# Slicing de listas\n",
        "print(f\"Elementos del índice 1 al 3: {mi_lista[1:4]}\") # Notar que el último índice no se incluye\n",
        "\n",
        "# Ordenar una lista (si los elementos son comparables)\n",
        "lista_numeros = [5, 2, 8, 1, 9]\n",
        "lista_numeros.sort()\n",
        "print(f\"Lista ordenada: {lista_numeros}\")\n",
        "\n",
        "# Invertir una lista\n",
        "mi_lista.reverse()\n",
        "print(f\"Lista invertida: {mi_lista}\")\n",
        "\n",
        "# Copiar una lista (para evitar modificar la original)\n",
        "lista_copiada = mi_lista.copy()\n",
        "print(f\"Lista copiada: {lista_copiada}\")\n",
        "\n",
        "# Concatenar listas\n",
        "lista1 = [1, 2]\n",
        "lista2 = [3, 4]\n",
        "lista_concatenada = lista1 + lista2\n",
        "print(f\"Listas concatenadas: {lista_concatenada}\")"
      ],
      "execution_count": 3,
      "outputs": [
        {
          "output_type": "stream",
          "name": "stdout",
          "text": [
            "Mi lista: [1, 2, 3, 'cuatro', 5.0]\n",
            "Primer elemento: 1\n",
            "Último elemento: 5.0\n",
            "Lista modificada: [100, 2, 3, 'cuatro', 5.0]\n",
            "Lista después de append: [100, 2, 3, 'cuatro', 5.0, 'seis']\n",
            "Lista después de insert: [100, 'nuevo', 2, 3, 'cuatro', 5.0, 'seis']\n",
            "Lista después de remove: [100, 'nuevo', 2, 3, 5.0, 'seis']\n",
            "Elemento eliminado con pop(): seis\n",
            "Lista después de pop(): [100, 'nuevo', 2, 3, 5.0]\n",
            "Lista después de del: ['nuevo', 2, 3, 5.0]\n",
            "Longitud de la lista: 4\n",
            "Elementos de la lista:\n",
            "nuevo\n",
            "2\n",
            "3\n",
            "5.0\n",
            "Elementos del índice 1 al 3: [2, 3, 5.0]\n",
            "Lista ordenada: [1, 2, 5, 8, 9]\n",
            "Lista invertida: [5.0, 3, 2, 'nuevo']\n",
            "Lista copiada: [5.0, 3, 2, 'nuevo']\n",
            "Listas concatenadas: [1, 2, 3, 4]\n"
          ]
        }
      ]
    },
    {
      "cell_type": "markdown",
      "metadata": {
        "id": "4a7d866d"
      },
      "source": [
        "### Trabajando con Diccionarios (dict)\n",
        "\n",
        "Los diccionarios son colecciones desordenadas de pares clave-valor. Cada clave debe ser única y se utiliza para acceder a su valor asociado."
      ]
    },
    {
      "cell_type": "code",
      "metadata": {
        "colab": {
          "base_uri": "https://localhost:8080/"
        },
        "id": "ee8eff6d",
        "outputId": "0caabbcb-3f06-4aed-d13e-39c2e332fc70"
      },
      "source": [
        "# Creando un diccionario\n",
        "mi_diccionario = {\"nombre\": \"Juan\", \"edad\": 30, \"ciudad\": \"Madrid\"}\n",
        "print(f\"Mi diccionario: {mi_diccionario}\")\n",
        "\n",
        "# Acceder a valores usando claves\n",
        "print(f\"Nombre: {mi_diccionario['nombre']}\")\n",
        "print(f\"Edad: {mi_diccionario['edad']}\")\n",
        "\n",
        "# Agregar un nuevo par clave-valor\n",
        "mi_diccionario[\"ocupacion\"] = \"Ingeniero\"\n",
        "print(f\"Diccionario después de agregar: {mi_diccionario}\")\n",
        "\n",
        "# Modificar un valor\n",
        "mi_diccionario[\"edad\"] = 31\n",
        "print(f\"Diccionario después de modificar edad: {mi_diccionario}\")\n",
        "\n",
        "# Eliminar un par clave-valor\n",
        "del mi_diccionario[\"ciudad\"]\n",
        "print(f\"Diccionario después de eliminar ciudad: {mi_diccionario}\")\n",
        "\n",
        "# Eliminar y obtener un valor\n",
        "ocupacion = mi_diccionario.pop(\"ocupacion\")\n",
        "print(f\"Valor eliminado con pop(): {ocupacion}\")\n",
        "print(f\"Diccionario después de pop(): {mi_diccionario}\")\n",
        "\n",
        "# Obtener claves, valores y pares (ítems)\n",
        "claves = mi_diccionario.keys()\n",
        "valores = mi_diccionario.values()\n",
        "items = mi_diccionario.items()\n",
        "\n",
        "print(f\"Claves del diccionario: {claves}\")\n",
        "print(f\"Valores del diccionario: {valores}\")\n",
        "print(f\"Items del diccionario: {items}\")\n",
        "\n",
        "# Iterar sobre un diccionario\n",
        "print(\"Iterando sobre el diccionario:\")\n",
        "for clave, valor in mi_diccionario.items():\n",
        "    print(f\"Clave: {clave}, Valor: {valor}\")\n",
        "\n",
        "# Verificar si una clave existe en el diccionario\n",
        "print(f\"¿Existe la clave 'nombre'? {'nombre' in mi_diccionario}\")\n",
        "print(f\"¿Existe la clave 'ciudad'? {'ciudad' in mi_diccionario}\")\n",
        "\n",
        "# Obtener un valor con get() (evita errores si la clave no existe)\n",
        "print(f\"Valor de 'nombre' con get(): {mi_diccionario.get('nombre')}\")\n",
        "print(f\"Valor de 'pais' con get() (clave no existe): {mi_diccionario.get('pais')}\") # Devuelve None por defecto\n",
        "print(f\"Valor de 'pais' con get() (valor por defecto): {mi_diccionario.get('pais', 'Desconocido')}\") # Devuelve valor por defecto"
      ],
      "execution_count": 4,
      "outputs": [
        {
          "output_type": "stream",
          "name": "stdout",
          "text": [
            "Mi diccionario: {'nombre': 'Juan', 'edad': 30, 'ciudad': 'Madrid'}\n",
            "Nombre: Juan\n",
            "Edad: 30\n",
            "Diccionario después de agregar: {'nombre': 'Juan', 'edad': 30, 'ciudad': 'Madrid', 'ocupacion': 'Ingeniero'}\n",
            "Diccionario después de modificar edad: {'nombre': 'Juan', 'edad': 31, 'ciudad': 'Madrid', 'ocupacion': 'Ingeniero'}\n",
            "Diccionario después de eliminar ciudad: {'nombre': 'Juan', 'edad': 31, 'ocupacion': 'Ingeniero'}\n",
            "Valor eliminado con pop(): Ingeniero\n",
            "Diccionario después de pop(): {'nombre': 'Juan', 'edad': 31}\n",
            "Claves del diccionario: dict_keys(['nombre', 'edad'])\n",
            "Valores del diccionario: dict_values(['Juan', 31])\n",
            "Items del diccionario: dict_items([('nombre', 'Juan'), ('edad', 31)])\n",
            "Iterando sobre el diccionario:\n",
            "Clave: nombre, Valor: Juan\n",
            "Clave: edad, Valor: 31\n",
            "¿Existe la clave 'nombre'? True\n",
            "¿Existe la clave 'ciudad'? False\n",
            "Valor de 'nombre' con get(): Juan\n",
            "Valor de 'pais' con get() (clave no existe): None\n",
            "Valor de 'pais' con get() (valor por defecto): Desconocido\n"
          ]
        }
      ]
    },
    {
      "cell_type": "markdown",
      "metadata": {
        "id": "cafa9418"
      },
      "source": [
        "### Trabajando con Conjuntos (set)\n",
        "\n",
        "Los conjuntos son colecciones desordenadas de elementos únicos. Son útiles para eliminar duplicados y realizar operaciones de conjuntos como unión, intersección y diferencia."
      ]
    },
    {
      "cell_type": "code",
      "metadata": {
        "colab": {
          "base_uri": "https://localhost:8080/"
        },
        "id": "a7bfbef4",
        "outputId": "9219a632-7112-4771-ee0d-b345e89c0f86"
      },
      "source": [
        "# Creando un conjunto\n",
        "mi_conjunto = {1, 2, 3, 3, 4, 5} # Los elementos duplicados se eliminan automáticamente\n",
        "print(f\"Mi conjunto: {mi_conjunto}\")\n",
        "\n",
        "# Agregar elementos a un conjunto\n",
        "mi_conjunto.add(6)\n",
        "print(f\"Conjunto después de agregar 6: {mi_conjunto}\")\n",
        "\n",
        "# Agregar múltiples elementos (desde un iterable)\n",
        "mi_conjunto.update([7, 8, 8, 9])\n",
        "print(f\"Conjunto después de update: {mi_conjunto}\")\n",
        "\n",
        "# Eliminar elementos de un conjunto\n",
        "mi_conjunto.remove(5) # Elimina el elemento, da error si no existe\n",
        "print(f\"Conjunto después de remove 5: {mi_conjunto}\")\n",
        "\n",
        "# mi_conjunto.remove(10) # KeyError: 10\n",
        "\n",
        "mi_conjunto.discard(4) # Elimina el elemento, no da error si no existe\n",
        "print(f\"Conjunto después de discard 4: {mi_conjunto}\")\n",
        "\n",
        "mi_conjunto.discard(10) # No hace nada si 10 no está en el conjunto\n",
        "print(f\"Conjunto después de discard 10: {mi_conjunto}\")\n",
        "\n",
        "elemento_eliminado_conjunto = mi_conjunto.pop() # Elimina y devuelve un elemento arbitrario\n",
        "print(f\"Elemento eliminado con pop() del conjunto: {elemento_eliminado_conjunto}\")\n",
        "print(f\"Conjunto después de pop(): {mi_conjunto}\")\n",
        "\n",
        "# Longitud de un conjunto\n",
        "print(f\"Longitud del conjunto: {len(mi_conjunto)}\")\n",
        "\n",
        "# Iterar sobre un conjunto\n",
        "print(\"Elementos del conjunto:\")\n",
        "for elemento in mi_conjunto:\n",
        "    print(elemento)\n",
        "\n",
        "# Operaciones de conjuntos\n",
        "conjunto1 = {1, 2, 3, 4}\n",
        "conjunto2 = {3, 4, 5, 6}\n",
        "\n",
        "# Unión\n",
        "union_conjuntos = conjunto1.union(conjunto2) # o conjunto1 | conjunto2\n",
        "print(f\"Unión de conjuntos: {union_conjuntos}\")\n",
        "\n",
        "# Intersección\n",
        "interseccion_conjuntos = conjunto1.intersection(conjunto2) # o conjunto1 & conjunto2\n",
        "print(f\"Intersección de conjuntos: {interseccion_conjuntos}\")\n",
        "\n",
        "# Diferencia\n",
        "diferencia_conjuntos1 = conjunto1.difference(conjunto2) # o conjunto1 - conjunto2\n",
        "print(f\"Diferencia (conjunto1 - conjunto2): {diferencia_conjuntos1}\")\n",
        "\n",
        "diferencia_conjuntos2 = conjunto2.difference(conjunto1) # o conjunto2 - conjunto1\n",
        "print(f\"Diferencia (conjunto2 - conjunto1): {diferencia_conjuntos2}\")\n",
        "\n",
        "# Diferencia simétrica (elementos en uno u otro, pero no en ambos)\n",
        "diferencia_simetrica = conjunto1.symmetric_difference(conjunto2) # o conjunto1 ^ conjunto2\n",
        "print(f\"Diferencia simétrica: {diferencia_simetrica}\")\n",
        "\n",
        "# Verificar si un conjunto es subconjunto o superconjunto\n",
        "print(f\"¿Es {{1, 2}} subconjunto de conjunto1? {{1, 2}}.issubset(conjunto1): { {1, 2}.issubset(conjunto1) }\")\n",
        "print(f\"¿Es conjunto1 superconjunto de {{1, 2}}? conjunto1.issuperset({{1, 2}}): { conjunto1.issuperset({1, 2}) }\")"
      ],
      "execution_count": 5,
      "outputs": [
        {
          "output_type": "stream",
          "name": "stdout",
          "text": [
            "Mi conjunto: {1, 2, 3, 4, 5}\n",
            "Conjunto después de agregar 6: {1, 2, 3, 4, 5, 6}\n",
            "Conjunto después de update: {1, 2, 3, 4, 5, 6, 7, 8, 9}\n",
            "Conjunto después de remove 5: {1, 2, 3, 4, 6, 7, 8, 9}\n",
            "Conjunto después de discard 4: {1, 2, 3, 6, 7, 8, 9}\n",
            "Conjunto después de discard 10: {1, 2, 3, 6, 7, 8, 9}\n",
            "Elemento eliminado con pop() del conjunto: 1\n",
            "Conjunto después de pop(): {2, 3, 6, 7, 8, 9}\n",
            "Longitud del conjunto: 6\n",
            "Elementos del conjunto:\n",
            "2\n",
            "3\n",
            "6\n",
            "7\n",
            "8\n",
            "9\n",
            "Unión de conjuntos: {1, 2, 3, 4, 5, 6}\n",
            "Intersección de conjuntos: {3, 4}\n",
            "Diferencia (conjunto1 - conjunto2): {1, 2}\n",
            "Diferencia (conjunto2 - conjunto1): {5, 6}\n",
            "Diferencia simétrica: {1, 2, 5, 6}\n",
            "¿Es {1, 2} subconjunto de conjunto1? {1, 2}.issubset(conjunto1): True\n",
            "¿Es conjunto1 superconjunto de {1, 2}? conjunto1.issuperset({1, 2}): True\n"
          ]
        }
      ]
    },
    {
      "cell_type": "markdown",
      "metadata": {
        "id": "734fe607"
      },
      "source": [
        "### 4. Argumentos variables (*args y **kwargs)\n",
        "\n",
        "A veces no sabes cuántos argumentos posicionales o con nombre necesitará tu función. Python proporciona `*args` para manejar un número variable de argumentos posicionales y `**kwargs` para un número variable de argumentos con nombre (pares clave-valor).\n",
        "\n",
        "*   `*args` recolecta argumentos posicionales extras en una tupla.\n",
        "*   `**kwargs` recolecta argumentos con nombre extras en un diccionario."
      ]
    },
    {
      "cell_type": "code",
      "metadata": {
        "colab": {
          "base_uri": "https://localhost:8080/"
        },
        "id": "6fb494cc",
        "outputId": "a725f823-c5f7-4160-82f1-542a81daf6e2"
      },
      "source": [
        "# Función con *args\n",
        "def sumar_todos(*args):\n",
        "    \"\"\"Suma todos los argumentos posicionales pasados.\"\"\"\n",
        "    total = 0\n",
        "    for num in args:\n",
        "        total += num\n",
        "    print(f\"La suma de todos los números es: {total}\")\n",
        "\n",
        "# Llamadas a la función con *args\n",
        "sumar_todos(1, 2, 3)\n",
        "sumar_todos(10, 20, 30, 40, 50)\n",
        "\n",
        "# Función con **kwargs\n",
        "def mostrar_info(**kwargs):\n",
        "    \"\"\"Muestra la información pasada como argumentos con nombre.\"\"\"\n",
        "    print(\"Información:\")\n",
        "    for clave, valor in kwargs.items():\n",
        "        print(f\"- {clave}: {valor}\")\n",
        "\n",
        "# Llamadas a la función con **kwargs\n",
        "mostrar_info(nombre=\"Ana\", edad=30, ciudad=\"París\")\n",
        "mostrar_info(producto=\"Laptop\", precio=1200)\n",
        "\n",
        "# Puedes combinar argumentos normales, *args y **kwargs\n",
        "def funcion_completa(arg_fijo, *args, **kwargs):\n",
        "    print(f\"Argumento fijo: {arg_fijo}\")\n",
        "    print(f\"Argumentos posicionales extras (*args): {args}\")\n",
        "    print(f\"Argumentos con nombre extras (**kwargs): {kwargs}\")\n",
        "\n",
        "# Llamada a la función combinada\n",
        "funcion_completa(\"Valor Fijo\", 1, 2, 3, clave1=\"valor1\", clave2=\"valor2\")"
      ],
      "execution_count": 6,
      "outputs": [
        {
          "output_type": "stream",
          "name": "stdout",
          "text": [
            "La suma de todos los números es: 6\n",
            "La suma de todos los números es: 150\n",
            "Información:\n",
            "- nombre: Ana\n",
            "- edad: 30\n",
            "- ciudad: París\n",
            "Información:\n",
            "- producto: Laptop\n",
            "- precio: 1200\n",
            "Argumento fijo: Valor Fijo\n",
            "Argumentos posicionales extras (*args): (1, 2, 3)\n",
            "Argumentos con nombre extras (**kwargs): {'clave1': 'valor1', 'clave2': 'valor2'}\n"
          ]
        }
      ]
    },
    {
      "cell_type": "markdown",
      "metadata": {
        "id": "591c2bbc"
      },
      "source": [
        "### 2. Funciones con parámetros\n",
        "\n",
        "Las funciones pueden aceptar parámetros, que son valores que se pasan a la función cuando se llama. Estos parámetros actúan como variables dentro de la función."
      ]
    },
    {
      "cell_type": "code",
      "metadata": {
        "colab": {
          "base_uri": "https://localhost:8080/"
        },
        "id": "a77f4b1a",
        "outputId": "5a1cfecc-f6b2-4352-9680-8d785c546cb8"
      },
      "source": [
        "# Función con un parámetro\n",
        "def saludar_nombre(nombre):\n",
        "    \"\"\"Esta función saluda a la persona que se pasa como parámetro.\"\"\"\n",
        "    print(f\"Hola, {nombre}!\")\n",
        "\n",
        "# Llamada a la función con un argumento\n",
        "saludar_nombre(\"Ana\")\n",
        "saludar_nombre(\"Luis\")\n",
        "\n",
        "# Función con múltiples parámetros\n",
        "def sumar(a, b):\n",
        "    \"\"\"Esta función suma dos números y muestra el resultado.\"\"\"\n",
        "    resultado = a + b\n",
        "    print(f\"La suma de {a} y {b} es: {resultado}\")\n",
        "\n",
        "# Llamada a la función con múltiples argumentos\n",
        "sumar(5, 3)\n",
        "sumar(10, 25)"
      ],
      "execution_count": 7,
      "outputs": [
        {
          "output_type": "stream",
          "name": "stdout",
          "text": [
            "Hola, Ana!\n",
            "Hola, Luis!\n",
            "La suma de 5 y 3 es: 8\n",
            "La suma de 10 y 25 es: 35\n"
          ]
        }
      ]
    },
    {
      "cell_type": "markdown",
      "metadata": {
        "id": "efa3f7ee"
      },
      "source": [
        "### 3. Valores por defecto en parámetros\n",
        "\n",
        "Puedes asignar valores por defecto a los parámetros de una función. Si no se proporciona un argumento para ese parámetro al llamar a la función, se utilizará el valor por defecto. Los parámetros con valores por defecto deben ir después de los parámetros sin valores por defecto."
      ]
    },
    {
      "cell_type": "code",
      "metadata": {
        "colab": {
          "base_uri": "https://localhost:8080/"
        },
        "id": "9d845f22",
        "outputId": "e875a7cf-204c-4d59-bb3c-9c17bd30d8fe"
      },
      "source": [
        "# Función con un parámetro con valor por defecto\n",
        "def saludar_ciudad(nombre, ciudad=\"desconocida\"):\n",
        "    \"\"\"Esta función saluda a una persona e indica su ciudad (con valor por defecto).\"\"\"\n",
        "    print(f\"Hola {nombre}, ¿cómo es la vida en {ciudad}?\")\n",
        "\n",
        "# Llamadas a la función\n",
        "saludar_ciudad(\"Carlos\") # Usará el valor por defecto para ciudad\n",
        "saludar_ciudad(\"Elena\", \"Barcelona\") # Sobrescribirá el valor por defecto para ciudad"
      ],
      "execution_count": 8,
      "outputs": [
        {
          "output_type": "stream",
          "name": "stdout",
          "text": [
            "Hola Carlos, ¿cómo es la vida en desconocida?\n",
            "Hola Elena, ¿cómo es la vida en Barcelona?\n"
          ]
        }
      ]
    },
    {
      "cell_type": "markdown",
      "metadata": {
        "id": "6de4436e"
      },
      "source": [
        "### 3. Valores por defecto en parámetros\n",
        "\n",
        "Puedes asignar valores por defecto a los parámetros de una función. Si no se proporciona un argumento para ese parámetro al llamar a la función, se utilizará el valor por defecto. Los parámetros con valores por defecto deben ir después de los parámetros sin valores por defecto."
      ]
    },
    {
      "cell_type": "code",
      "metadata": {
        "colab": {
          "base_uri": "https://localhost:8080/"
        },
        "id": "79dfbb89",
        "outputId": "39537cc8-5701-4b80-c424-17be7744238c"
      },
      "source": [
        "# Función con un parámetro con valor por defecto\n",
        "def saludar_ciudad(nombre, ciudad=\"desconocida\"):\n",
        "    \"\"\"Esta función saluda a una persona e indica su ciudad (con valor por defecto).\"\"\"\n",
        "    print(f\"Hola {nombre}, ¿cómo es la vida en {ciudad}?\")\n",
        "\n",
        "# Llamadas a la función\n",
        "saludar_ciudad(\"Carlos\") # Usará el valor por defecto para ciudad\n",
        "saludar_ciudad(\"Elena\", \"Barcelona\") # Sobrescribirá el valor por defecto para ciudad"
      ],
      "execution_count": 9,
      "outputs": [
        {
          "output_type": "stream",
          "name": "stdout",
          "text": [
            "Hola Carlos, ¿cómo es la vida en desconocida?\n",
            "Hola Elena, ¿cómo es la vida en Barcelona?\n"
          ]
        }
      ]
    }
  ]
}