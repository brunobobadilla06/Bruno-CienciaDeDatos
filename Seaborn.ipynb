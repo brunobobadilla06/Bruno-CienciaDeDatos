{
  "nbformat": 4,
  "nbformat_minor": 0,
  "metadata": {
    "colab": {
      "provenance": [],
      "authorship_tag": "ABX9TyOYmn0UglBSqjjpnoXHd/f/",
      "include_colab_link": true
    },
    "kernelspec": {
      "name": "python3",
      "display_name": "Python 3"
    },
    "language_info": {
      "name": "python"
    }
  },
  "cells": [
    {
      "cell_type": "markdown",
      "metadata": {
        "id": "view-in-github",
        "colab_type": "text"
      },
      "source": [
        "<a href=\"https://colab.research.google.com/github/brunobobadilla06/Bruno-CienciaDeDatos/blob/main/Seaborn.ipynb\" target=\"_parent\"><img src=\"https://colab.research.google.com/assets/colab-badge.svg\" alt=\"Open In Colab\"/></a>"
      ]
    },
    {
      "cell_type": "markdown",
      "source": [
        "Seaborn es una biblioteca de visualización de datos en Python basada en Matplotlib. Está diseñada para hacer que la creación de gráficos estadísticos atractivos e informativos sea más sencilla, especialmente para explorar y comprender conjuntos de datos complejos.\n",
        "\n",
        "Algunos detalles importantes sobre Seaborn son:\n",
        "\n",
        "Estética por defecto: Seaborn viene con una variedad de temas y paletas de colores predefinidos que hacen que tus gráficos se vean profesionales sin mucho esfuerzo.\n",
        "Funciones para tipos de gráficos comunes: Ofrece funciones de alto nivel para crear fácilmente gráficos comunes como diagramas de dispersión (scatter plots), histogramas, gráficos de barras, diagramas de caja (box plots), mapas de calor (heatmaps), etc.\n",
        "Integración con pandas: Seaborn funciona muy bien con los DataFrames de pandas, lo que facilita la visualización de datos tabulares.\n",
        "Enfoque en gráficos estadísticos: Muchas de sus funciones están orientadas a mostrar relaciones entre variables y distribuciones de datos.\n"
      ],
      "metadata": {
        "id": "ghQE-zJDeJfK"
      }
    },
    {
      "cell_type": "code",
      "source": [
        "import seaborn as sns\n",
        "import pandas as pd\n",
        "\n",
        "# Aplicar un estilo por defecto de Seaborn(opcional, pero mejora la apariencia)\n",
        "sns.set_theme(style='whitegrid')\n",
        "\n"
      ],
      "metadata": {
        "id": "9Yok4XU1h0Yi"
      },
      "execution_count": null,
      "outputs": []
    }
  ]
}